{
 "cells": [
  {
   "cell_type": "code",
   "execution_count": null,
   "id": "baec878b-88b8-416a-a3c1-ed87e0feabf7",
   "metadata": {},
   "outputs": [],
   "source": [
    "import pandas as pd"
   ]
  },
  {
   "cell_type": "code",
   "execution_count": null,
   "id": "e16f006c-b445-4610-b246-2b5b370e5d5a",
   "metadata": {},
   "outputs": [],
   "source": [
    "def rank_weekend_places(city_name, dataset_path=\"travel_dataset.csv\"):\n",
    "    df = pd.read_csv(dataset_path)\n",
    "    filtered_df = df[df['Nearest City'].str.contains(city_name, case=False, na=False)]\n",
    "    filtered_df['Normalized Rating'] = filtered_df['Rating'] / filtered_df['Rating'].max()\n",
    "    filtered_df['Normalized Reviews'] = filtered_df['Reviews'] / filtered_df['Reviews'].max()\n",
    "    filtered_df['Normalized Distance'] = 1 - (filtered_df['Distance (km)'] / filtered_df['Distance (km)'].max())\n",
    "    filtered_df['Normalized Duration'] = 1 - (filtered_df['Travel Duration (hrs)'] / filtered_df['Travel Duration (hrs)'].max())\n",
    "    filtered_df['Score'] = (\n",
    "        (filtered_df['Normalized Rating'] * 0.4) +\n",
    "        (filtered_df['Normalized Reviews'] * 0.3) +\n",
    "        (filtered_df['Normalized Distance'] * 0.2) +\n",
    "        (filtered_df['Normalized Duration'] * 0.1)\n",
    "    )\n",
    "    ranked_places = filtered_df.sort_values(by=['Score'], ascending=False)\n",
    "    return ranked_places[['Place Name', 'Nearest City', 'Rating', 'Reviews', 'Distance (km)', 'Travel Duration (hrs)', 'Score']].head(5)\n",
    "city = \"Delhi\"\n",
    "top_places = rank_weekend_places(city)\n",
    "print(top_places)"
   ]
  },
  {
   "cell_type": "code",
   "execution_count": null,
   "id": "f5fa4202-cfa1-4ddc-a59e-e8cef64ec595",
   "metadata": {},
   "outputs": [],
   "source": [
    "def calculate_distance(place_lat, place_lon, city_lat, city_lon):\n",
    "    return geodesic((city_lat, city_lon), (place_lat, place_lon)).km\n",
    "def add_distance_column(df, city_name):\n",
    "    city_lat, city_lon = get_coordinates(city_name)\n",
    "    if city_lat is None or city_lon is None:\n",
    "        raise ValueError(f\"Could not find coordinates for city: {city_name}\")\n",
    "    \n",
    "    df[\"Distance\"] = df.apply(lambda row: calculate_distance(row[\"Latitude\"], row[\"Longitude\"], city_lat, city_lon), axis=1)\n",
    "    return df\n",
    "\n"
   ]
  },
  {
   "cell_type": "code",
   "execution_count": null,
   "id": "6c217b05-2f2a-4755-9288-c6547ffe30ed",
   "metadata": {},
   "outputs": [],
   "source": [
    "data = {\n",
    "    \"Place\": [\"Lonavala\", \"Alibaug\", \"Matheran\"],\n",
    "    \"Latitude\": [18.7481, 18.6411, 19.0245],\n",
    "    \"Longitude\": [73.4072, 72.8728, 73.1413]\n",
    "}\n"
   ]
  },
  {
   "cell_type": "code",
   "execution_count": null,
   "id": "d760d6fd-c383-4a62-99d7-4e52e32810e8",
   "metadata": {},
   "outputs": [],
   "source": [
    "df = pd.DataFrame(data)"
   ]
  },
  {
   "cell_type": "code",
   "execution_count": null,
   "id": "f0889f0b-6a50-4f51-a737-a829c57bd16d",
   "metadata": {},
   "outputs": [],
   "source": [
    "def rank_places(df):\n",
    "    df[\"Rating_Score\"] = df[\"Rating\"] / df[\"Rating\"].max()  \n",
    "    df[\"Popularity_Score\"] = df[\"Popularity\"] / df[\"Popularity\"].max() \n",
    "    df[\"Distance_Score\"] = 1 - (df[\"Distance\"] / df[\"Distance\"].max())  \n",
    "    df[\"Rank_Score\"] = (0.4 * df[\"Rating_Score\"]) + (0.4 * df[\"Popularity_Score\"]) + (0.2 * df[\"Distance_Score\"])\n",
    "    df = df.sort_values(by=\"Rank_Score\", ascending=False)\n",
    "    \n",
    "    return df[[\"Place\", \"Distance\", \"Rating\", \"Popularity\", \"Rank_Score\"]].head(10)  \n"
   ]
  },
  {
   "cell_type": "code",
   "execution_count": null,
   "id": "e1ab1b6c-053e-42a5-bbb2-93df9e018169",
   "metadata": {},
   "outputs": [],
   "source": [
    "\n",
    "def get_weekend_places(city_name, df):\n",
    "    df = add_distance_column(df, city_name) \n",
    "    return rank_places(df)  \n"
   ]
  },
  {
   "cell_type": "code",
   "execution_count": null,
   "id": "e9972fc7-07f1-4afc-8e6e-f09e04b6cbc2",
   "metadata": {},
   "outputs": [],
   "source": [
    "city_name = \"Mumbai\"\n",
    "top_weekend_destinations = get_weekend_places(city_name, df)\n",
    "print(top_weekend_destinations)\n"
   ]
  },
  {
   "cell_type": "code",
   "execution_count": null,
   "id": "bdd9cb25-507f-4104-81ca-1b6a6c2c0308",
   "metadata": {},
   "outputs": [],
   "source": []
  }
 ],
 "metadata": {
  "kernelspec": {
   "display_name": "Python 3 (ipykernel)",
   "language": "python",
   "name": "python3"
  },
  "language_info": {
   "codemirror_mode": {
    "name": "ipython",
    "version": 3
   },
   "file_extension": ".py",
   "mimetype": "text/x-python",
   "name": "python",
   "nbconvert_exporter": "python",
   "pygments_lexer": "ipython3",
   "version": "3.12.2"
  }
 },
 "nbformat": 4,
 "nbformat_minor": 5
}
